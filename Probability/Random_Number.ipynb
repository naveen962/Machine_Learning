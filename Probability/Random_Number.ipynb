{
 "cells": [
  {
   "cell_type": "code",
   "execution_count": 2,
   "id": "0bd5aa46",
   "metadata": {},
   "outputs": [
    {
     "name": "stdout",
     "output_type": "stream",
     "text": [
      "Probabilty of any random number will be :  0.16666666666666666\n"
     ]
    }
   ],
   "source": [
    "s = {2,3,4,5,6,7}\n",
    "\n",
    "prob_random_value = 1 / len(s)\n",
    "print(\"Probabilty of any random number will be : \", prob_random_value)"
   ]
  },
  {
   "cell_type": "code",
   "execution_count": null,
   "id": "a83b7bcc",
   "metadata": {},
   "outputs": [],
   "source": []
  }
 ],
 "metadata": {
  "kernelspec": {
   "display_name": "Python 3 (ipykernel)",
   "language": "python",
   "name": "python3"
  },
  "language_info": {
   "codemirror_mode": {
    "name": "ipython",
    "version": 3
   },
   "file_extension": ".py",
   "mimetype": "text/x-python",
   "name": "python",
   "nbconvert_exporter": "python",
   "pygments_lexer": "ipython3",
   "version": "3.9.5"
  }
 },
 "nbformat": 4,
 "nbformat_minor": 5
}
