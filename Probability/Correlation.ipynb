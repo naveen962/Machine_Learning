{
 "cells": [
  {
   "cell_type": "code",
   "execution_count": 1,
   "id": "be17756c",
   "metadata": {},
   "outputs": [],
   "source": [
    "import statistics as st \n",
    "import math\n"
   ]
  },
  {
   "cell_type": "code",
   "execution_count": 4,
   "id": "82b30662",
   "metadata": {},
   "outputs": [
    {
     "name": "stdout",
     "output_type": "stream",
     "text": [
      "69.11111111111111\n",
      "85.88888888888889\n",
      "-0.010385967351642275\n"
     ]
    }
   ],
   "source": [
    "x=[68,72,65,70,62,75,78,64,68]\n",
    "y=[90,85,88,100,105,98,70,65,72]\n",
    "mean_x=st.mean(x)\n",
    "print(mean_x)\n",
    "mean_y=st.mean(y)\n",
    "print(mean_y)\n",
    "numerator=0\n",
    "denominator=0\n",
    "for i in range(9):\n",
    "    numerator+=(x[i]-mean_x)*(y[i]-mean_y)\n",
    "    denominator+=math.sqrt(pow(x[i]-mean_x,2))*(pow(y[i]-mean_y,2))\n",
    "correlation=numerator/denominator\n",
    "print(correlation)"
   ]
  },
  {
   "cell_type": "code",
   "execution_count": null,
   "id": "70a7ad7e",
   "metadata": {},
   "outputs": [],
   "source": []
  }
 ],
 "metadata": {
  "kernelspec": {
   "display_name": "Python 3 (ipykernel)",
   "language": "python",
   "name": "python3"
  },
  "language_info": {
   "codemirror_mode": {
    "name": "ipython",
    "version": 3
   },
   "file_extension": ".py",
   "mimetype": "text/x-python",
   "name": "python",
   "nbconvert_exporter": "python",
   "pygments_lexer": "ipython3",
   "version": "3.9.5"
  }
 },
 "nbformat": 4,
 "nbformat_minor": 5
}
