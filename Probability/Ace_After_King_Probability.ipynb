{
 "cells": [
  {
   "cell_type": "code",
   "execution_count": 8,
   "id": "bd10cb20",
   "metadata": {},
   "outputs": [
    {
     "name": "stdout",
     "output_type": "stream",
     "text": [
      "0.00603\n"
     ]
    }
   ],
   "source": [
    "cards = 52\n",
    "\n",
    "# Outcomes\n",
    "kings= 4\n",
    "aces = 4\n",
    "\n",
    "# Divide possible outcomes by the sample set\n",
    "king_probability = kings / cards\n",
    "\n",
    "ace_probability = aces/ (cards-1)\n",
    "\n",
    "probability_ace_after_king=king_probability*ace_probability\n",
    "# Print probability rounded to two decimal places\n",
    "print(round(probability_ace_after_king, 5))"
   ]
  },
  {
   "cell_type": "code",
   "execution_count": null,
   "id": "9c6b2818",
   "metadata": {},
   "outputs": [],
   "source": []
  }
 ],
 "metadata": {
  "kernelspec": {
   "display_name": "Python 3 (ipykernel)",
   "language": "python",
   "name": "python3"
  },
  "language_info": {
   "codemirror_mode": {
    "name": "ipython",
    "version": 3
   },
   "file_extension": ".py",
   "mimetype": "text/x-python",
   "name": "python",
   "nbconvert_exporter": "python",
   "pygments_lexer": "ipython3",
   "version": "3.9.5"
  }
 },
 "nbformat": 4,
 "nbformat_minor": 5
}
