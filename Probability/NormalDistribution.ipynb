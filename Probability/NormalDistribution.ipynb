{
 "cells": [
  {
   "cell_type": "code",
   "execution_count": 2,
   "id": "669ce4c3",
   "metadata": {},
   "outputs": [
    {
     "name": "stdout",
     "output_type": "stream",
     "text": [
      "z-score of x < 40 =  2.5\n",
      "Probability of Normal Distribution of x < 40 = 0.9938\n",
      "z-score of x > 21  =  -2.25\n",
      "Probability of  Normal Distribution of x > 21 = 0.9878\n",
      "z-score of 30 < x < 35 =  1.25\n",
      "Probability of  Normal Distribution of 30 < x < 35 = 0.3944\n"
     ]
    }
   ],
   "source": [
    "mean = 30\n",
    "variance = 4\n",
    "x = 40\n",
    "z_value = (x - mean) / variance\n",
    "print(\"z-score of x < 40 = \",z_value )\n",
    "print(\"Probability of Normal Distribution of x < 40 = 0.9938\")\n",
    "\n",
    "mean = 30\n",
    "variance = 4\n",
    "x = 21\n",
    "z_value = (x - mean) / variance\n",
    "print(\"z-score of x > 21  = \", z_value)\n",
    "print(\"Probability of  Normal Distribution of x > 21 = 0.9878\")\n",
    "\n",
    "mean = 30\n",
    "variance = 4\n",
    "x = 35\n",
    "z_value = (x - mean) / variance\n",
    "print(\"z-score of 30 < x < 35 = \", z_value)\n",
    "print(\"Probability of  Normal Distribution of 30 < x < 35 = 0.3944\")"
   ]
  },
  {
   "cell_type": "code",
   "execution_count": null,
   "id": "acb7b34b",
   "metadata": {},
   "outputs": [],
   "source": []
  }
 ],
 "metadata": {
  "kernelspec": {
   "display_name": "Python 3 (ipykernel)",
   "language": "python",
   "name": "python3"
  },
  "language_info": {
   "codemirror_mode": {
    "name": "ipython",
    "version": 3
   },
   "file_extension": ".py",
   "mimetype": "text/x-python",
   "name": "python",
   "nbconvert_exporter": "python",
   "pygments_lexer": "ipython3",
   "version": "3.9.5"
  }
 },
 "nbformat": 4,
 "nbformat_minor": 5
}
