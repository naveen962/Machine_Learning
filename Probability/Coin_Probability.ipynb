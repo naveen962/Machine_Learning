{
 "cells": [
  {
   "cell_type": "code",
   "execution_count": 5,
   "id": "ee5496d2",
   "metadata": {},
   "outputs": [],
   "source": [
    "sample = {\"HHH\", \"HTT\", \"HHT\", \"HTH\", \"THH\", \"TTH\", \"THT\", \"TTT\"}\n",
    "A = {\"HHH\"}\n",
    "B = {\"HTT\",\"THT\",\"TTH\"}\n",
    "C = {\"HHH\", \"HTT\", \"HHT\", \"HTH\", \"THH\", \"TTH\", \"THT\"}\n",
    "D = {\"HHH\", \"HHT\", \"HTH\", \"THH\"}"
   ]
  },
  {
   "cell_type": "code",
   "execution_count": 6,
   "id": "760ddc24",
   "metadata": {},
   "outputs": [],
   "source": [
    "prob_Three_Head = len(A)/len(sample)\n",
    "prob_exactlyOne_Head = len(B)/len(sample)\n",
    "prob_atleastOne_Head = len(C)/len(sample)"
   ]
  },
  {
   "cell_type": "code",
   "execution_count": 7,
   "id": "fb5cd170",
   "metadata": {},
   "outputs": [
    {
     "name": "stdout",
     "output_type": "stream",
     "text": [
      "Probability of getting 3 heads is : 0.125\n",
      "Probability of getting exactly one head is :  0.375\n",
      "Probability of getting at least two head when we get one head :  0.875\n"
     ]
    }
   ],
   "source": [
    "print(\"Probability of getting 3 heads is :\", prob_Three_Head)\n",
    "print(\"Probability of getting exactly one head is : \", prob_exactlyOne_Head)\n",
    "print(\"Probability of getting at least two head when we get one head : \", prob_atleastOne_Head)"
   ]
  },
  {
   "cell_type": "code",
   "execution_count": null,
   "id": "d9005e55",
   "metadata": {},
   "outputs": [],
   "source": []
  }
 ],
 "metadata": {
  "kernelspec": {
   "display_name": "Python 3 (ipykernel)",
   "language": "python",
   "name": "python3"
  },
  "language_info": {
   "codemirror_mode": {
    "name": "ipython",
    "version": 3
   },
   "file_extension": ".py",
   "mimetype": "text/x-python",
   "name": "python",
   "nbconvert_exporter": "python",
   "pygments_lexer": "ipython3",
   "version": "3.9.5"
  }
 },
 "nbformat": 4,
 "nbformat_minor": 5
}
