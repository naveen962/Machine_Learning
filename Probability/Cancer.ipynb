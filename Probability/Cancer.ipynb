{
 "cells": [
  {
   "cell_type": "code",
   "execution_count": 1,
   "id": "0e33597d",
   "metadata": {},
   "outputs": [
    {
     "name": "stdout",
     "output_type": "stream",
     "text": [
      "Total probability of having cancer  0.10204081632653063\n"
     ]
    }
   ],
   "source": [
    "prob_cancer = 0.01\n",
    "prob_no_cancer = 0.99\n",
    "prob_positive_cancer_test = 0.9\n",
    "prob_positive_no_cancer_test = 0.08\n",
    "\n",
    "total_probability = prob_cancer * prob_positive_cancer_test + prob_no_cancer * prob_positive_no_cancer_test\n",
    "probability_cancer_given_positive_MMG = (prob_cancer * prob_positive_cancer_test) / total_probability\n",
    "\n",
    "print(\"Total probability of having cancer \",probability_cancer_given_positive_MMG)"
   ]
  },
  {
   "cell_type": "code",
   "execution_count": null,
   "id": "59fe7c6c",
   "metadata": {},
   "outputs": [],
   "source": []
  }
 ],
 "metadata": {
  "kernelspec": {
   "display_name": "Python 3 (ipykernel)",
   "language": "python",
   "name": "python3"
  },
  "language_info": {
   "codemirror_mode": {
    "name": "ipython",
    "version": 3
   },
   "file_extension": ".py",
   "mimetype": "text/x-python",
   "name": "python",
   "nbconvert_exporter": "python",
   "pygments_lexer": "ipython3",
   "version": "3.9.5"
  }
 },
 "nbformat": 4,
 "nbformat_minor": 5
}
