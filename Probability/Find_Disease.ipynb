{
 "cells": [
  {
   "cell_type": "code",
   "execution_count": 1,
   "id": "0863846a",
   "metadata": {},
   "outputs": [],
   "source": [
    "prob_prescribed_painkillers = 0.1\n",
    "prob_non_prescribed_painkillers = 0.9\n",
    "prob_addicts_given_prescribed_painkillers = 0.08\n",
    "prob_addicts_given_non_prescribed_painkillers = 0.05\n"
   ]
  },
  {
   "cell_type": "code",
   "execution_count": 5,
   "id": "0cdd4730",
   "metadata": {},
   "outputs": [
    {
     "name": "stdout",
     "output_type": "stream",
     "text": [
      "0.1509433962264151\n"
     ]
    }
   ],
   "source": [
    "total_probability = prob_prescribed_painkillers * prob_addicts_given_prescribed_painkillers + prob_non_prescribed_painkillers * prob_addicts_given_non_prescribed_painkillers\n",
    "probability = (prob_prescribed_painkillers*prob_addicts_given_prescribed_painkillers)/total_probability\n",
    "print(probability)"
   ]
  }
 ],
 "metadata": {
  "kernelspec": {
   "display_name": "Python 3 (ipykernel)",
   "language": "python",
   "name": "python3"
  },
  "language_info": {
   "codemirror_mode": {
    "name": "ipython",
    "version": 3
   },
   "file_extension": ".py",
   "mimetype": "text/x-python",
   "name": "python",
   "nbconvert_exporter": "python",
   "pygments_lexer": "ipython3",
   "version": "3.9.5"
  }
 },
 "nbformat": 4,
 "nbformat_minor": 5
}
