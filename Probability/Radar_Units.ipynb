{
 "cells": [
  {
   "cell_type": "code",
   "execution_count": 1,
   "id": "fe93d233",
   "metadata": {},
   "outputs": [
    {
     "name": "stdout",
     "output_type": "stream",
     "text": [
      "0.15865525393145719\n"
     ]
    }
   ],
   "source": [
    "from statistics import NormalDist\n",
    "std=NormalDist(90,10)\n",
    "probability_GreaterThan_100=1-std.cdf(100)\n",
    "print(probability_GreaterThan_100)"
   ]
  },
  {
   "cell_type": "code",
   "execution_count": null,
   "id": "cb2aa15d",
   "metadata": {},
   "outputs": [],
   "source": []
  }
 ],
 "metadata": {
  "kernelspec": {
   "display_name": "Python 3 (ipykernel)",
   "language": "python",
   "name": "python3"
  },
  "language_info": {
   "codemirror_mode": {
    "name": "ipython",
    "version": 3
   },
   "file_extension": ".py",
   "mimetype": "text/x-python",
   "name": "python",
   "nbconvert_exporter": "python",
   "pygments_lexer": "ipython3",
   "version": "3.9.5"
  }
 },
 "nbformat": 4,
 "nbformat_minor": 5
}
