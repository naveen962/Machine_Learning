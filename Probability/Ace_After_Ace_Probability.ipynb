{
 "cells": [
  {
   "cell_type": "code",
   "execution_count": 3,
   "id": "bf8a529e",
   "metadata": {},
   "outputs": [
    {
     "name": "stdout",
     "output_type": "stream",
     "text": [
      "0.00452\n"
     ]
    }
   ],
   "source": [
    "cards = 52\n",
    "\n",
    "# Outcomes\n",
    "aces = 4\n",
    "\n",
    "# Divide possible outcomes by the sample set\n",
    "ace_first_probability = aces / cards\n",
    "\n",
    "ace_second_probability = (aces-1)/ (cards-1)\n",
    "\n",
    "probability_ace_after_ace=ace_first_probability*ace_second_probability\n",
    "# Print probability rounded to two decimal places\n",
    "print(round(probability_ace_after_ace, 5))"
   ]
  },
  {
   "cell_type": "code",
   "execution_count": null,
   "id": "585b7f82",
   "metadata": {},
   "outputs": [],
   "source": []
  }
 ],
 "metadata": {
  "kernelspec": {
   "display_name": "Python 3 (ipykernel)",
   "language": "python",
   "name": "python3"
  },
  "language_info": {
   "codemirror_mode": {
    "name": "ipython",
    "version": 3
   },
   "file_extension": ".py",
   "mimetype": "text/x-python",
   "name": "python",
   "nbconvert_exporter": "python",
   "pygments_lexer": "ipython3",
   "version": "3.9.5"
  }
 },
 "nbformat": 4,
 "nbformat_minor": 5
}
